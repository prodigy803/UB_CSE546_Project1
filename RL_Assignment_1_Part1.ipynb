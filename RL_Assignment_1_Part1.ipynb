{
 "cells": [
  {
   "cell_type": "code",
   "execution_count": 1,
   "source": [
    "import pandas as pd\n",
    "import numpy as np\n",
    "import matplotlib.pyplot as plt\n",
    "\n",
    "%matplotlib inline\n",
    "\n",
    "import random\n",
    "\n",
    "class environment:\n",
    "    def __init__(self,type_of_env:str,epsilon:float):\n",
    "\n",
    "        # No of number of states = 25 - Requirement 1\n",
    "        self.environment = np.zeros((5,5))\n",
    "        \n",
    "        self.max_timesteps = 10\n",
    "        self.current_time_steps = 0\n",
    "        \n",
    "        self.goal_pos = [4,4]\n",
    "        self.agent_current_pos = [0,0]\n",
    "\n",
    "        self.environment[tuple(self.agent_current_pos)] = 1\n",
    "        self.environment[tuple(self.goal_pos)] = 0.5\n",
    "\n",
    "        # Collection of Rewards (the keys) and associated values (the states). -> Total No of Rewards = 4 -> Requirement 3\n",
    "        self.reward_states = [{-1:[0,3]},{-1:[3,0]},{3:[2,3]},{3:[3,2]}]\n",
    "        \n",
    "        # Setting the colors for the reward states in the environment.\n",
    "        for reward_state in self.reward_states:\n",
    "            for reward, position in reward_state.items():\n",
    "                self.environment[tuple(position)] = reward\n",
    "\n",
    "        # Either Deterministic or Stocastic.\n",
    "        self.environment_type = type_of_env\n",
    "\n",
    "        # This determines the exploitation vs exploration phase.\n",
    "        self.epsilon = epsilon\n",
    "\n",
    "        # This tracks the reward for the agent.\n",
    "        self.cumulative_reward = 0\n",
    "\n",
    "    def reset(self):\n",
    "        # Here we are essentially resetting all the values.\n",
    "        self.current_time_steps = 0\n",
    "        self.cumulative_reward = 0\n",
    "\n",
    "        self.goal_pos = [4,4]\n",
    "        self.agent_current_pos = [0,0]\n",
    "        \n",
    "        self.environment = np.zeros((5,5))\n",
    "\n",
    "        self.reward_states = [{-1:[0,3]},{-1:[3,0]},{3:[2,3]},{3:[3,2]}]\n",
    "        \n",
    "        for reward in self.reward_states:\n",
    "            for reward, position in reward.items():\n",
    "                self.environment[tuple(position)] = reward\n",
    "\n",
    "        self.environment[self.agent_current_pos] = 1\n",
    "        self.environment[self.goal_pos] = 0.5\n",
    "    \n",
    "    def step(self, action):\n",
    "\n",
    "        # We are checking wether the environment is deterministic or stocastic\n",
    "        if self.environment_type == 'deterministic':\n",
    "            # In Deterministic environments, there is no use for epsilon as all the actions are deterministic / greedy / pre-determined.\n",
    "\n",
    "            self.epsilon = 0\n",
    "            self.current_time_steps +=1\n",
    "\n",
    "            # The agent can take a maximum of 4 actions i.e Up, Down, Left or Right. -> Requirement 2\n",
    "            if action == 0:\n",
    "                print('Up')\n",
    "                self.agent_current_pos[0] -=1\n",
    "\n",
    "            elif action == 1:\n",
    "                print('Down')\n",
    "                self.agent_current_pos[0] +=1\n",
    "\n",
    "            elif action == 2:\n",
    "                print('Our Left or the Agents Right')\n",
    "                self.agent_current_pos[1] -=1\n",
    "\n",
    "            elif action == 3:\n",
    "                print('Our Right or the Agents Left')\n",
    "                self.agent_current_pos[1] +=1\n",
    "            \n",
    "            else:\n",
    "                print('Action was undefined')\n",
    "\n",
    "            # Here we are clipping the agents position to be in the environment (i.e if the agent goes out of env, we shall clip him to be inside the environment).\n",
    "            self.agent_current_pos = list(np.clip(self.agent_current_pos, 0, 4))\n",
    "\n",
    "            # Here we are calculating the reward (i.e. the cumulative reward) and deleting that reward state from the collection of the reward states.\n",
    "            breaker = False\n",
    "            for reward_state_counter in range(len(self.reward_states)):\n",
    "                for reward, state in self.reward_states[reward_state_counter].items():\n",
    "                    # if the reward state matches the agents, sum the cum reward and delete that particular reward state space.\n",
    "\n",
    "                    if state == self.agent_current_pos:\n",
    "                        self.cumulative_reward += reward\n",
    "                        del self.reward_states[reward_state_counter]\n",
    "                        breaker = True\n",
    "                        break\n",
    "\n",
    "                if breaker:\n",
    "                    break\n",
    "            \n",
    "            # We are now re-visualizing the environment\n",
    "            self.environment = np.zeros((5,5)) \n",
    "\n",
    "            for reward_state_counter in range(len(self.reward_states)):\n",
    "                for reward, position in self.reward_states[reward_state_counter].items():\n",
    "                    self.environment[tuple(position)] = reward\n",
    "                \n",
    "            self.environment[tuple(self.goal_pos)] = 0.5\n",
    "            self.environment[tuple(self.agent_current_pos)] = 1\n",
    "            \n",
    "            # if the agent has reached the final state then delete the \n",
    "            if (self.agent_current_pos == self.goal_pos) or (self.current_time_steps == self.max_timesteps):\n",
    "                done_or_not = True\n",
    "            \n",
    "            else:\n",
    "                done_or_not = False\n",
    "\n",
    "            return self.environment.flatten, self.cumulative_reward, done_or_not, self.current_time_steps\n",
    "\n",
    "        elif self.environment_type == 'stochastic':\n",
    "            self.current_time_steps +=1\n",
    "            print('Current Agent POS', str(self.agent_current_pos))\n",
    "\n",
    "            if action == 0:\n",
    "                print(\"Up\")\n",
    "                self.agent_current_pos = self.get_final_action([-1,0],[1,0],[0,1])\n",
    "\n",
    "            elif action == 1:\n",
    "                print(\"Down\")\n",
    "                self.agent_current_pos = self.get_final_action([1,0],[-1,0],[0,-1])\n",
    "\n",
    "            elif action == 2:\n",
    "                print(\"Our Left or the Agents Right\")\n",
    "                self.agent_current_pos = self.get_final_action([0,-1],[-1,0],[0,1])\n",
    "\n",
    "            elif action == 3:\n",
    "                print(\"Our Right or the Agents Left\")\n",
    "                self.agent_current_pos = self.get_final_action([0,1],[1,0],[0,-1])\n",
    "\n",
    "            else:\n",
    "                print('action was undefined')\n",
    "\n",
    "            print('Final Agent POS', str(self.agent_current_pos))\n",
    "            \n",
    "            breaker = False\n",
    "            for reward_state_counter in range(len(self.reward_states)):\n",
    "                for reward, state in self.reward_states[reward_state_counter].items():\n",
    "                    if state == self.agent_current_pos:\n",
    "                        self.cumulative_reward += reward\n",
    "                        del self.reward_states[reward_state_counter]\n",
    "                        breaker = True\n",
    "                        break\n",
    "\n",
    "                if breaker:\n",
    "                    break\n",
    "            \n",
    "            # We are now re-visualizing the environment\n",
    "            self.environment = np.zeros((5,5)) \n",
    "            \n",
    "            for reward_state_counter in range(len(self.reward_states)):\n",
    "                for reward, position in self.reward_states[reward_state_counter].items():\n",
    "                    self.environment[tuple(position)] = reward\n",
    "        \n",
    "            self.environment[tuple(self.goal_pos)] = 0.5\n",
    "            self.environment[tuple(self.agent_current_pos)] = 1\n",
    "            \n",
    "            if (self.agent_current_pos == self.goal_pos) or (self.current_time_steps == self.max_timesteps):\n",
    "                done_or_not = True\n",
    "            \n",
    "            else:\n",
    "                done_or_not = False\n",
    "\n",
    "            return self.environment.flatten, self.cumulative_reward, done_or_not, self.current_time_steps\n",
    "\n",
    "    def get_final_action(self, action1, action2, action3):\n",
    "    \n",
    "        random_n_number = random.uniform(0, 1)\n",
    "        print('randn is', random_n_number)\n",
    "\n",
    "        random_action_proba = self.epsilon\n",
    "        old_pos = self.agent_current_pos\n",
    "\n",
    "        if random_n_number > random_action_proba:\n",
    "            self.agent_current_pos = [action1[x]+self.agent_current_pos[x] for x in range(len((self.agent_current_pos)))]\n",
    "            \n",
    "        elif (random_n_number >= random_action_proba/2) and (random_n_number < random_action_proba):\n",
    "            self.agent_current_pos = [action2[x]+self.agent_current_pos[x] for x in range(len((self.agent_current_pos)))]\n",
    "\n",
    "        elif (random_n_number < random_action_proba/2):\n",
    "            self.agent_current_pos = [action3[x]+self.agent_current_pos[x] for x in range(len((self.agent_current_pos)))]\n",
    "\n",
    "        else:\n",
    "            raise ValueError('A Very Bad Probability thing happened.')\n",
    "\n",
    "        self.get_action_comparison(old_pos,self.agent_current_pos)\n",
    "\n",
    "        self.agent_current_pos = list(np.clip(self.agent_current_pos, 0, 4))\n",
    "        return self.agent_current_pos\n",
    "\n",
    "\n",
    "    def get_action_comparison(self,old_pos, new_pos):\n",
    "        shift = [old_pos[i]-new_pos[i] for i in range(len(new_pos))]\n",
    "\n",
    "        if shift == [-1,0]: \n",
    "            print('The Agent Ended Up Going Down')\n",
    "        elif shift == [1,0]:\n",
    "            print('The Agent Ended Up Going Up')\n",
    "\n",
    "        elif shift == [0,-1]:\n",
    "            print('The Agent Ended Up Going Right')\n",
    "\n",
    "        elif shift == [0,1]:\n",
    "            print('The Agent Ended Up Going Left')\n",
    "\n",
    "    def render(self):\n",
    "        plt.imshow(self.environment)\n",
    "        plt.show()\n",
    "\n",
    "sto = environment(type_of_env='stochastic',epsilon=0.3)\n",
    "print('Start State')\n",
    "sto.render()\n",
    "for i in range(10):\n",
    "    \n",
    "    action = random.randrange(0,4)\n",
    "    observation, reward, done, _ = sto.step(action)\n",
    "    if done:\n",
    "        sto.render()\n",
    "        break\n",
    "    else:\n",
    "        sto.render()\n",
    "    \n",
    "    print('----------------')\n",
    "sto.reset()\n",
    "print(\"The Final Reward is\",reward)"
   ],
   "outputs": [
    {
     "output_type": "stream",
     "name": "stdout",
     "text": [
      "Start State\n"
     ]
    },
    {
     "output_type": "display_data",
     "data": {
      "image/png": "[encoded data removed]",
      "text/plain": [
       "<Figure size 432x288 with 1 Axes>"
      ]
     },
     "metadata": {
      "needs_background": "light"
     }
    },
    {
     "output_type": "stream",
     "name": "stdout",
     "text": [
      "Current Agent POS [0, 0]\n",
      "Our Right or the Agents Left\n",
      "randn is 0.10648102627594946\n",
      "The Agent Ended Up Going Left\n",
      "Final Agent POS [0, 0]\n"
     ]
    },
    {
     "output_type": "display_data",
     "data": {
      "image/png": "[encoded data removed]",
      "text/plain": [
       "<Figure size 432x288 with 1 Axes>"
      ]
     },
     "metadata": {
      "needs_background": "light"
     }
    },
    {
     "output_type": "stream",
     "name": "stdout",
     "text": [
      "----------------\n",
      "Current Agent POS [0, 0]\n",
      "Up\n",
      "randn is 0.4242181510359161\n",
      "The Agent Ended Up Going Up\n",
      "Final Agent POS [0, 0]\n"
     ]
    },
    {
     "output_type": "display_data",
     "data": {
      "image/png": "[encoded data removed]",
      "text/plain": [
       "<Figure size 432x288 with 1 Axes>"
      ]
     },
     "metadata": {
      "needs_background": "light"
     }
    },
    {
     "output_type": "stream",
     "name": "stdout",
     "text": [
      "----------------\n",
      "Current Agent POS [0, 0]\n",
      "Up\n",
      "randn is 0.2655819933682101\n",
      "The Agent Ended Up Going Down\n",
      "Final Agent POS [1, 0]\n"
     ]
    },
    {
     "output_type": "display_data",
     "data": {
      "image/png": "[encoded data removed]",
      "text/plain": [
       "<Figure size 432x288 with 1 Axes>"
      ]
     },
     "metadata": {
      "needs_background": "light"
     }
    },
    {
     "output_type": "stream",
     "name": "stdout",
     "text": [
      "----------------\n",
      "Current Agent POS [1, 0]\n",
      "Down\n",
      "randn is 0.6166110921613199\n",
      "The Agent Ended Up Going Down\n",
      "Final Agent POS [2, 0]\n"
     ]
    },
    {
     "output_type": "display_data",
     "data": {
      "image/png": "[encoded data removed]",
      "text/plain": [
       "<Figure size 432x288 with 1 Axes>"
      ]
     },
     "metadata": {
      "needs_background": "light"
     }
    },
    {
     "output_type": "stream",
     "name": "stdout",
     "text": [
      "----------------\n",
      "Current Agent POS [2, 0]\n",
      "Up\n",
      "randn is 0.027312036898313075\n",
      "The Agent Ended Up Going Right\n",
      "Final Agent POS [2, 1]\n"
     ]
    },
    {
     "output_type": "display_data",
     "data": {
      "image/png": "[encoded data removed]",
      "text/plain": [
       "<Figure size 432x288 with 1 Axes>"
      ]
     },
     "metadata": {
      "needs_background": "light"
     }
    },
    {
     "output_type": "stream",
     "name": "stdout",
     "text": [
      "----------------\n",
      "Current Agent POS [2, 1]\n",
      "Our Left or the Agents Right\n",
      "randn is 0.6094355934912877\n",
      "The Agent Ended Up Going Left\n",
      "Final Agent POS [2, 0]\n"
     ]
    },
    {
     "output_type": "display_data",
     "data": {
      "image/png": "[encoded data removed]",
      "text/plain": [
       "<Figure size 432x288 with 1 Axes>"
      ]
     },
     "metadata": {
      "needs_background": "light"
     }
    },
    {
     "output_type": "stream",
     "name": "stdout",
     "text": [
      "----------------\n",
      "Current Agent POS [2, 0]\n",
      "Up\n",
      "randn is 0.4938440881946412\n",
      "The Agent Ended Up Going Up\n",
      "Final Agent POS [1, 0]\n"
     ]
    },
    {
     "output_type": "display_data",
     "data": {
      "image/png": "[encoded data removed]",
      "text/plain": [
       "<Figure size 432x288 with 1 Axes>"
      ]
     },
     "metadata": {
      "needs_background": "light"
     }
    },
    {
     "output_type": "stream",
     "name": "stdout",
     "text": [
      "----------------\n",
      "Current Agent POS [1, 0]\n",
      "Our Right or the Agents Left\n",
      "randn is 0.48976616367956527\n",
      "The Agent Ended Up Going Right\n",
      "Final Agent POS [1, 1]\n"
     ]
    },
    {
     "output_type": "display_data",
     "data": {
      "image/png": "[encoded data removed]",
      "text/plain": [
       "<Figure size 432x288 with 1 Axes>"
      ]
     },
     "metadata": {
      "needs_background": "light"
     }
    },
    {
     "output_type": "stream",
     "name": "stdout",
     "text": [
      "----------------\n",
      "Current Agent POS [1, 1]\n",
      "Up\n",
      "randn is 0.611911878386623\n",
      "The Agent Ended Up Going Up\n",
      "Final Agent POS [0, 1]\n"
     ]
    },
    {
     "output_type": "display_data",
     "data": {
      "image/png": "[encoded data removed]",
      "text/plain": [
       "<Figure size 432x288 with 1 Axes>"
      ]
     },
     "metadata": {
      "needs_background": "light"
     }
    },
    {
     "output_type": "stream",
     "name": "stdout",
     "text": [
      "----------------\n",
      "Current Agent POS [0, 1]\n",
      "Our Left or the Agents Right\n",
      "randn is 0.05305050978063597\n",
      "The Agent Ended Up Going Right\n",
      "Final Agent POS [0, 2]\n"
     ]
    },
    {
     "output_type": "display_data",
     "data": {
      "image/png": "[encoded data removed]",
      "text/plain": [
       "<Figure size 432x288 with 1 Axes>"
      ]
     },
     "metadata": {
      "needs_background": "light"
     }
    },
    {
     "output_type": "stream",
     "name": "stdout",
     "text": [
      "The Final Reward is 0\n"
     ]
    }
   ],
   "metadata": {}
  },
  {
   "cell_type": "code",
   "execution_count": null,
   "source": [],
   "outputs": [],
   "metadata": {}
  },
  {
   "cell_type": "code",
   "execution_count": null,
   "source": [],
   "outputs": [],
   "metadata": {}
  }
 ],
 "metadata": {
  "orig_nbformat": 4,
  "language_info": {
   "name": "python",
   "version": "3.8.5",
   "mimetype": "text/x-python",
   "codemirror_mode": {
    "name": "ipython",
    "version": 3
   },
   "pygments_lexer": "ipython3",
   "nbconvert_exporter": "python",
   "file_extension": ".py"
  },
  "kernelspec": {
   "name": "python3",
   "display_name": "Python 3.8.5 64-bit ('base': conda)"
  },
  "interpreter": {
   "hash": "9ec5a702473176f6b5ce6c18e1a25a3b92dc3c0568fd1d66af71c175925cbdff"
  }
 },
 "nbformat": 4,
 "nbformat_minor": 2
}