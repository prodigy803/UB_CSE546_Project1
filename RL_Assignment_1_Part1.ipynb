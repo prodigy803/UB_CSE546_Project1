{
 "cells": [
  {
   "cell_type": "code",
   "execution_count": 5,
   "source": [
    "import pandas as pd\n",
    "import numpy as np\n",
    "import matplotlib.pyplot as plt\n",
    "\n",
    "%matplotlib inline\n",
    "\n",
    "import random\n",
    "\n",
    "class environment:\n",
    "    def __init__(self,type_of_env:str,epsilon:float):\n",
    "\n",
    "        # No of number of states = 25 - Requirement 1\n",
    "        self.environment = np.zeros((5,5))\n",
    "        \n",
    "        self.max_timesteps = 50\n",
    "        self.current_time_steps = 0\n",
    "        \n",
    "        self.goal_pos = [4,4]\n",
    "        self.agent_current_pos = [0,0]\n",
    "\n",
    "        self.environment[tuple(self.agent_current_pos)] = 1\n",
    "        self.environment[tuple(self.goal_pos)] = 0.5\n",
    "\n",
    "        # Collection of Rewards (the keys) and associated values (the states). -> Total No of Rewards = 4 -> Requirement 3\n",
    "        self.reward_states = [{-1:[0,3]},{-1:[3,0]},{3:[2,3]},{3:[3,2]}]\n",
    "        \n",
    "        # Setting the colors for the reward states in the environment.\n",
    "        for reward_state in self.reward_states:\n",
    "            for reward, position in reward_state.items():\n",
    "                self.environment[tuple(position)] = reward\n",
    "\n",
    "        # Either Deterministic or stochastic.\n",
    "        self.environment_type = type_of_env\n",
    "\n",
    "        # This determines the exploitation vs exploration phase.\n",
    "        self.epsilon = epsilon\n",
    "\n",
    "        # This tracks the reward for the agent.\n",
    "        self.cumulative_reward = 0\n",
    "\n",
    "    def reset(self):\n",
    "        # Here we are essentially resetting all the values.\n",
    "        self.current_time_steps = 0\n",
    "        self.cumulative_reward = 0\n",
    "\n",
    "        self.goal_pos = [4,4]\n",
    "        self.agent_current_pos = [0,0]\n",
    "        \n",
    "        self.environment = np.zeros((5,5))\n",
    "\n",
    "        self.reward_states = [{-1:[0,3]},{-1:[3,0]},{3:[2,3]},{3:[3,2]}]\n",
    "        \n",
    "        for reward in self.reward_states:\n",
    "            for reward, position in reward.items():\n",
    "                self.environment[tuple(position)] = reward\n",
    "\n",
    "        self.environment[self.agent_current_pos] = 1\n",
    "        self.environment[self.goal_pos] = 0.5\n",
    "    \n",
    "    def step(self, action):\n",
    "\n",
    "        # We are checking wether the environment is deterministic or stochastic\n",
    "        if self.environment_type == 'deterministic':\n",
    "            # In Deterministic environments, there is no use for epsilon as all the actions are deterministic / greedy / pre-determined.\n",
    "\n",
    "            self.epsilon = 0\n",
    "            self.current_time_steps +=1\n",
    "\n",
    "            # The agent can take a maximum of 4 actions i.e Up, Down, Left or Right. -> Requirement 2\n",
    "            if action == 0:\n",
    "                print('Up')\n",
    "                self.agent_current_pos[0] -=1\n",
    "\n",
    "            elif action == 1:\n",
    "                print('Down')\n",
    "                self.agent_current_pos[0] +=1\n",
    "\n",
    "            elif action == 2:\n",
    "                print('Our Left or the Agents Right')\n",
    "                self.agent_current_pos[1] -=1\n",
    "\n",
    "            elif action == 3:\n",
    "                print('Our Right or the Agents Left')\n",
    "                self.agent_current_pos[1] +=1\n",
    "            \n",
    "            else:\n",
    "                print('Action was undefined')\n",
    "\n",
    "            # Here we are clipping the agents position to be in the environment (i.e if the agent goes out of env, we shall clip him to be inside the environment).\n",
    "            self.agent_current_pos = list(np.clip(self.agent_current_pos, 0, 4))\n",
    "\n",
    "            # Here we are calculating the reward (i.e. the cumulative reward) and deleting that reward state from the collection of the reward states.\n",
    "            breaker = False\n",
    "            for reward_state_counter in range(len(self.reward_states)):\n",
    "                for reward, state in self.reward_states[reward_state_counter].items():\n",
    "                    # if the reward state matches the agents, sum the cum reward and delete that particular reward state space.\n",
    "\n",
    "                    if state == self.agent_current_pos:\n",
    "                        self.cumulative_reward += reward\n",
    "                        del self.reward_states[reward_state_counter]\n",
    "                        breaker = True\n",
    "                        break\n",
    "\n",
    "                if breaker:\n",
    "                    break\n",
    "            \n",
    "            # We are now re-visualizing the environment\n",
    "            self.environment = np.zeros((5,5)) \n",
    "\n",
    "            for reward_state_counter in range(len(self.reward_states)):\n",
    "                for reward, position in self.reward_states[reward_state_counter].items():\n",
    "                    self.environment[tuple(position)] = reward\n",
    "                \n",
    "            self.environment[tuple(self.goal_pos)] = 0.5\n",
    "            self.environment[tuple(self.agent_current_pos)] = 1\n",
    "            \n",
    "            # if the agent has reached the final state then done\n",
    "            if (self.agent_current_pos == self.goal_pos) or (self.current_time_steps == self.max_timesteps):\n",
    "                done_or_not = True\n",
    "            \n",
    "            else:\n",
    "                done_or_not = False\n",
    "\n",
    "            return self.environment.flatten, self.cumulative_reward, done_or_not, self.current_time_steps\n",
    "\n",
    "        elif self.environment_type == 'stochastic':\n",
    "            self.current_time_steps +=1\n",
    "            print('Current Agent POS', str(self.agent_current_pos))\n",
    "\n",
    "            if action == 0:\n",
    "                print(\"Up\")\n",
    "                self.agent_current_pos = self.get_final_action([-1,0],[1,0],[0,1])\n",
    "\n",
    "            elif action == 1:\n",
    "                print(\"Down\")\n",
    "                self.agent_current_pos = self.get_final_action([1,0],[-1,0],[0,-1])\n",
    "\n",
    "            elif action == 2:\n",
    "                print(\"Our Left or the Agents Right\")\n",
    "                self.agent_current_pos = self.get_final_action([0,-1],[-1,0],[0,1])\n",
    "\n",
    "            elif action == 3:\n",
    "                print(\"Our Right or the Agents Left\")\n",
    "                self.agent_current_pos = self.get_final_action([0,1],[1,0],[0,-1])\n",
    "\n",
    "            else:\n",
    "                print('action was undefined')\n",
    "\n",
    "            print('Final Agent POS', str(self.agent_current_pos))\n",
    "            \n",
    "            # Here we are calculating the reward (i.e. the cumulative reward) and deleting that reward state from the collection of the reward states.\n",
    "\n",
    "            breaker = False\n",
    "            for reward_state_counter in range(len(self.reward_states)):\n",
    "                for reward, state in self.reward_states[reward_state_counter].items():\n",
    "                    # if the reward state matches the agents, sum the cum reward and delete that particular reward state space.\n",
    "\n",
    "                    if state == self.agent_current_pos:\n",
    "                        self.cumulative_reward += reward\n",
    "                        del self.reward_states[reward_state_counter]\n",
    "                        breaker = True\n",
    "                        break\n",
    "\n",
    "                if breaker:\n",
    "                    break\n",
    "            \n",
    "            # We are now re-visualizing the environment\n",
    "            self.environment = np.zeros((5,5)) \n",
    "            \n",
    "            for reward_state_counter in range(len(self.reward_states)):\n",
    "                for reward, position in self.reward_states[reward_state_counter].items():\n",
    "                    self.environment[tuple(position)] = reward\n",
    "        \n",
    "            self.environment[tuple(self.goal_pos)] = 0.5\n",
    "            self.environment[tuple(self.agent_current_pos)] = 1\n",
    "            \n",
    "            # if the agent has reached the final state then done\n",
    "            if (self.agent_current_pos == self.goal_pos) or (self.current_time_steps == self.max_timesteps):\n",
    "                done_or_not = True\n",
    "            \n",
    "            else:\n",
    "                done_or_not = False\n",
    "\n",
    "            return self.environment.flatten, self.cumulative_reward, done_or_not, self.current_time_steps\n",
    "\n",
    "    def get_final_action(self, action1, action2, action3):\n",
    "\n",
    "        \"\"\"\n",
    "        This function gets the final action for the \"stochastic\" modeled environment.\n",
    "        \n",
    "        For example take Epsilon as 0.7\n",
    "        \n",
    "        Then when we generate the random no, and if it is in the range of 0 - 0.7 (or 0.69999), then we take random exploratory actions.\n",
    "        When we generate the random no, and if its is in the range of 0.7 - 1, then we take the greedy (or pre-determined) step in our case.\n",
    "        Please note that at the moment the steps are chosen arbritrarily and not based the next states (like if there is a reward waiting in the \n",
    "        next state, then in the current version of the environment, we are not bothering about that, we are still going ahead with predetermined states\n",
    "        with a chance of taking a random action).\n",
    "        \"\"\"\n",
    "    \n",
    "        random_n_number = random.uniform(0, 1)\n",
    "        print('randn is', random_n_number)\n",
    "\n",
    "        random_action_proba = self.epsilon\n",
    "        old_pos = self.agent_current_pos\n",
    "\n",
    "        if random_n_number > random_action_proba:\n",
    "            self.agent_current_pos = [action1[x]+self.agent_current_pos[x] for x in range(len((self.agent_current_pos)))]\n",
    "            \n",
    "        elif (random_n_number >= random_action_proba/2) and (random_n_number < random_action_proba):\n",
    "            self.agent_current_pos = [action2[x]+self.agent_current_pos[x] for x in range(len((self.agent_current_pos)))]\n",
    "\n",
    "        elif (random_n_number < random_action_proba/2):\n",
    "            self.agent_current_pos = [action3[x]+self.agent_current_pos[x] for x in range(len((self.agent_current_pos)))]\n",
    "\n",
    "        else:\n",
    "            raise ValueError('A Very Bad Probability thing happened.')\n",
    "\n",
    "        self.get_action_comparison(old_pos,self.agent_current_pos)\n",
    "            \n",
    "        # Here we are clipping the agents position to be in the environment (i.e if the agent goes out of env, we shall clip him to be inside the environment).\n",
    "\n",
    "        self.agent_current_pos = list(np.clip(self.agent_current_pos, 0, 4))\n",
    "        return self.agent_current_pos\n",
    "\n",
    "\n",
    "    def get_action_comparison(self,old_pos, new_pos):\n",
    "        # This function tells us whether the final step the agent took after completing stochastic decision.\n",
    "\n",
    "        shift = [old_pos[i]-new_pos[i] for i in range(len(new_pos))]\n",
    "\n",
    "        if shift == [-1,0]: \n",
    "            print('The Agent Ended Up Going Down')\n",
    "        elif shift == [1,0]:\n",
    "            print('The Agent Ended Up Going Up')\n",
    "\n",
    "        elif shift == [0,-1]:\n",
    "            print('The Agent Ended Up Going Right')\n",
    "\n",
    "        elif shift == [0,1]:\n",
    "            print('The Agent Ended Up Going Left')\n",
    "\n",
    "    def render(self):\n",
    "        plt.imshow(self.environment)\n",
    "        plt.show()\n",
    "\n",
    "# The following lines of code are for demonstrating the environment under random inputs.\n",
    "# sto = environment(type_of_env='deterministic',epsilon=0.3)\n",
    "# print('Start State')\n",
    "# sto.render()\n",
    "# for i in range(10):\n",
    "    \n",
    "#     action = random.randrange(0,4)\n",
    "#     observation, reward, done, _ = sto.step(action)\n",
    "#     if done:\n",
    "#         sto.render()\n",
    "#         break\n",
    "#     else:\n",
    "#         sto.render()\n",
    "    \n",
    "#     print('----------------')\n",
    "# sto.reset()\n",
    "# print(\"The Final Reward is\",reward)\n",
    "\n",
    "\n",
    "# The following lines of code are for demonstrating the environment under predefined inputs.\n",
    "sto = environment(type_of_env='stochastic',epsilon=0.3)\n",
    "print('Start State')\n",
    "sto.render()\n",
    "for action in [3,3,3,1,1,2,1,3,3,1]:\n",
    "    observation, reward, done, _ = sto.step(action)\n",
    "    if done:\n",
    "        sto.render()\n",
    "        break\n",
    "    else:\n",
    "        sto.render()\n",
    "    \n",
    "    print('----------------')\n",
    "sto.reset()\n",
    "print(\"The Final Reward is\",reward)"
   ],
   "outputs": [
    {
     "output_type": "stream",
     "name": "stdout",
     "text": [
      "Start State\n"
     ]
    },
    {
     "output_type": "display_data",
     "data": {
      "image/png": "[encoded data removed]",
      "text/plain": [
       "<Figure size 432x288 with 1 Axes>"
      ]
     },
     "metadata": {
      "needs_background": "light"
     }
    },
    {
     "output_type": "stream",
     "name": "stdout",
     "text": [
      "Current Agent POS [0, 0]\n",
      "Our Right or the Agents Left\n",
      "randn is 0.4019242341553725\n",
      "The Agent Ended Up Going Right\n",
      "Final Agent POS [0, 1]\n"
     ]
    },
    {
     "output_type": "display_data",
     "data": {
      "image/png": "[encoded data removed]",
      "text/plain": [
       "<Figure size 432x288 with 1 Axes>"
      ]
     },
     "metadata": {
      "needs_background": "light"
     }
    },
    {
     "output_type": "stream",
     "name": "stdout",
     "text": [
      "----------------\n",
      "Current Agent POS [0, 1]\n",
      "Our Right or the Agents Left\n",
      "randn is 0.8044946340610436\n",
      "The Agent Ended Up Going Right\n",
      "Final Agent POS [0, 2]\n"
     ]
    },
    {
     "output_type": "display_data",
     "data": {
      "image/png": "[encoded data removed]",
      "text/plain": [
       "<Figure size 432x288 with 1 Axes>"
      ]
     },
     "metadata": {
      "needs_background": "light"
     }
    },
    {
     "output_type": "stream",
     "name": "stdout",
     "text": [
      "----------------\n",
      "Current Agent POS [0, 2]\n",
      "Our Right or the Agents Left\n",
      "randn is 0.5842331718485394\n",
      "The Agent Ended Up Going Right\n",
      "Final Agent POS [0, 3]\n"
     ]
    },
    {
     "output_type": "display_data",
     "data": {
      "image/png": "[encoded data removed]",
      "text/plain": [
       "<Figure size 432x288 with 1 Axes>"
      ]
     },
     "metadata": {
      "needs_background": "light"
     }
    },
    {
     "output_type": "stream",
     "name": "stdout",
     "text": [
      "----------------\n",
      "Current Agent POS [0, 3]\n",
      "Down\n",
      "randn is 0.27709022248561777\n",
      "The Agent Ended Up Going Up\n",
      "Final Agent POS [0, 3]\n"
     ]
    },
    {
     "output_type": "display_data",
     "data": {
      "image/png": "[encoded data removed]",
      "text/plain": [
       "<Figure size 432x288 with 1 Axes>"
      ]
     },
     "metadata": {
      "needs_background": "light"
     }
    },
    {
     "output_type": "stream",
     "name": "stdout",
     "text": [
      "----------------\n",
      "Current Agent POS [0, 3]\n",
      "Down\n",
      "randn is 0.49716040604898726\n",
      "The Agent Ended Up Going Down\n",
      "Final Agent POS [1, 3]\n"
     ]
    },
    {
     "output_type": "display_data",
     "data": {
      "image/png": "[encoded data removed]",
      "text/plain": [
       "<Figure size 432x288 with 1 Axes>"
      ]
     },
     "metadata": {
      "needs_background": "light"
     }
    },
    {
     "output_type": "stream",
     "name": "stdout",
     "text": [
      "----------------\n",
      "Current Agent POS [1, 3]\n",
      "Our Left or the Agents Right\n",
      "randn is 0.4103824046394997\n",
      "The Agent Ended Up Going Left\n",
      "Final Agent POS [1, 2]\n"
     ]
    },
    {
     "output_type": "display_data",
     "data": {
      "image/png": "[encoded data removed]",
      "text/plain": [
       "<Figure size 432x288 with 1 Axes>"
      ]
     },
     "metadata": {
      "needs_background": "light"
     }
    },
    {
     "output_type": "stream",
     "name": "stdout",
     "text": [
      "----------------\n",
      "Current Agent POS [1, 2]\n",
      "Down\n",
      "randn is 0.7422062057680328\n",
      "The Agent Ended Up Going Down\n",
      "Final Agent POS [2, 2]\n"
     ]
    },
    {
     "output_type": "display_data",
     "data": {
      "image/png": "[encoded data removed]",
      "text/plain": [
       "<Figure size 432x288 with 1 Axes>"
      ]
     },
     "metadata": {
      "needs_background": "light"
     }
    },
    {
     "output_type": "stream",
     "name": "stdout",
     "text": [
      "----------------\n",
      "Current Agent POS [2, 2]\n",
      "Our Right or the Agents Left\n",
      "randn is 0.4940034101483233\n",
      "The Agent Ended Up Going Right\n",
      "Final Agent POS [2, 3]\n"
     ]
    },
    {
     "output_type": "display_data",
     "data": {
      "image/png": "[encoded data removed]",
      "text/plain": [
       "<Figure size 432x288 with 1 Axes>"
      ]
     },
     "metadata": {
      "needs_background": "light"
     }
    },
    {
     "output_type": "stream",
     "name": "stdout",
     "text": [
      "----------------\n",
      "Current Agent POS [2, 3]\n",
      "Our Right or the Agents Left\n",
      "randn is 0.9714106749268795\n",
      "The Agent Ended Up Going Right\n",
      "Final Agent POS [2, 4]\n"
     ]
    },
    {
     "output_type": "display_data",
     "data": {
      "image/png": "[encoded data removed]",
      "text/plain": [
       "<Figure size 432x288 with 1 Axes>"
      ]
     },
     "metadata": {
      "needs_background": "light"
     }
    },
    {
     "output_type": "stream",
     "name": "stdout",
     "text": [
      "----------------\n",
      "Current Agent POS [2, 4]\n",
      "Down\n",
      "randn is 0.9981221516263096\n",
      "The Agent Ended Up Going Down\n",
      "Final Agent POS [3, 4]\n"
     ]
    },
    {
     "output_type": "display_data",
     "data": {
      "image/png": "[encoded data removed]",
      "text/plain": [
       "<Figure size 432x288 with 1 Axes>"
      ]
     },
     "metadata": {
      "needs_background": "light"
     }
    },
    {
     "output_type": "stream",
     "name": "stdout",
     "text": [
      "----------------\n",
      "The Final Reward is 2\n"
     ]
    }
   ],
   "metadata": {}
  },
  {
   "cell_type": "code",
   "execution_count": null,
   "source": [],
   "outputs": [],
   "metadata": {}
  },
  {
   "cell_type": "code",
   "execution_count": null,
   "source": [],
   "outputs": [],
   "metadata": {}
  }
 ],
 "metadata": {
  "orig_nbformat": 4,
  "language_info": {
   "name": "python",
   "version": "3.8.5",
   "mimetype": "text/x-python",
   "codemirror_mode": {
    "name": "ipython",
    "version": 3
   },
   "pygments_lexer": "ipython3",
   "nbconvert_exporter": "python",
   "file_extension": ".py"
  },
  "kernelspec": {
   "name": "python3",
   "display_name": "Python 3.8.5 64-bit ('base': conda)"
  },
  "interpreter": {
   "hash": "9ec5a702473176f6b5ce6c18e1a25a3b92dc3c0568fd1d66af71c175925cbdff"
  }
 },
 "nbformat": 4,
 "nbformat_minor": 2
}