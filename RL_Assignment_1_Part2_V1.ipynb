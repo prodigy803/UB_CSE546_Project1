{
 "cells": [
  {
   "cell_type": "code",
   "execution_count": 1,
   "source": [
    "import pandas as pd\r\n",
    "import numpy as np\r\n",
    "import matplotlib.pyplot as plt\r\n",
    "\r\n",
    "%matplotlib inline\r\n",
    "\r\n",
    "import random"
   ],
   "outputs": [],
   "metadata": {}
  },
  {
   "cell_type": "code",
   "execution_count": 32,
   "source": [
    "class environment_q_learning:\r\n",
    "    def __init__(self,type_of_env:str,gamma_disc: float, epsilon:float,epsilon_decay:float,learning_rate:float,no_of_episodes:int,max_time_steps:int):\r\n",
    "\r\n",
    "        if max_time_steps < 10:\r\n",
    "            raise ValueError(\"Timesteps should be greater than of equal to 10\")\r\n",
    "        \r\n",
    "        if (epsilon_decay > 1) or (epsilon_decay < 0):\r\n",
    "            raise ValueError(\"Epsilon decay should be less than 1 and greater than 0\")\r\n",
    "        \r\n",
    "        if no_of_episodes < 1:\r\n",
    "            raise ValueError(\"No of Episodes should be atleast equal to 1\")\r\n",
    "\r\n",
    "        # No of number of states = 25 - Requirement 1\r\n",
    "        self.environment = np.zeros((5,5))\r\n",
    "\r\n",
    "        # No of actions an agent can take:\r\n",
    "        self.action_set_size = 4\r\n",
    "\r\n",
    "        self.gamma = gamma_disc\r\n",
    "        # Q Value Learning Table\r\n",
    "        # self. = np.zeros((len(self.environment.flatten())),self.action_set_size)\r\n",
    "        self.qvalue_table = {}\r\n",
    "        for i1 in range(5):\r\n",
    "            for i2 in range(5):\r\n",
    "                for i in np.zeros((25,4)):\r\n",
    "                    self.qvalue_table[(i1,i2)] = i\r\n",
    "        \r\n",
    "        self.max_timesteps = max_time_steps\r\n",
    "        self.current_time_steps = 0\r\n",
    "        \r\n",
    "        # This determines the exploitation vs exploration phase.\r\n",
    "        self.epsilon = epsilon\r\n",
    "\r\n",
    "        # this determines the reduction in epsilon\r\n",
    "        self.epsilon_decay = epsilon_decay\r\n",
    "\r\n",
    "        # this determines how quickly the q values for a state are updated\r\n",
    "        self.learning_rate = learning_rate\r\n",
    "\r\n",
    "        # this tells us the no_of_epsiodes during which we will determine the optimal q value\r\n",
    "        self.no_of_episodes = no_of_episodes\r\n",
    "        \r\n",
    "        self.goal_pos = [4,4]\r\n",
    "        self.agent_current_pos = [0,0]\r\n",
    "\r\n",
    "        self.environment[tuple(self.agent_current_pos)] = 1\r\n",
    "        self.environment[tuple(self.goal_pos)] = 0.5\r\n",
    "\r\n",
    "        # Collection of Rewards (the keys) and associated values (the states). -> Total No of Rewards = 4 -> Requirement 3\r\n",
    "        self.rewards = [{-1:[0,3]},{-1:[3,0]},{3:[2,3]},{3:[3,2]}]\r\n",
    "        self.reward_states = [(0,3),(3,0),(2,3),(3,2)]\r\n",
    "        # Setting the colors for the reward states in the environment.\r\n",
    "        for reward_state in self.rewards:\r\n",
    "            for reward, position in reward_state.items():\r\n",
    "                self.environment[tuple(position)] = reward\r\n",
    "\r\n",
    "        # Either Deterministic or stochastic.\r\n",
    "        self.environment_type = type_of_env\r\n",
    "\r\n",
    "        # This tracks the reward for the agent.\r\n",
    "        self.cumulative_reward = 0\r\n",
    "\r\n",
    "    def reset(self):\r\n",
    "        # Here we are essentially resetting all the values.\r\n",
    "        self.current_time_steps = 0\r\n",
    "        self.cumulative_reward = 0\r\n",
    "\r\n",
    "        self.goal_pos = [4,4]\r\n",
    "        self.agent_current_pos = [0,0]\r\n",
    "        \r\n",
    "        self.environment = np.zeros((5,5))\r\n",
    "        \r\n",
    "        self.rewards = [{-1:[0,3]},{-1:[3,0]},{3:[2,3]},{3:[3,2]}]\r\n",
    "        self.reward_states = [(0,3),(3,0),(2,3),(3,2)]\r\n",
    "        \r\n",
    "        for reward in self.rewards:\r\n",
    "            for reward, position in reward.items():\r\n",
    "                self.environment[tuple(position)] = reward\r\n",
    "\r\n",
    "        self.environment[self.agent_current_pos] = 1\r\n",
    "        self.environment[self.goal_pos] = 0.5\r\n",
    "    \r\n",
    "    def step(self):\r\n",
    "\r\n",
    "        # We are checking wether the environment is deterministic or stochastic\r\n",
    "        if self.environment_type == 'deterministic':\r\n",
    "            # In Deterministic environments, there is no use for epsilon as all the actions are deterministic / greedy / pre-determined.\r\n",
    "\r\n",
    "            self.epsilon = 0\r\n",
    "            self.current_time_steps +=1\r\n",
    "\r\n",
    "            # get_all_possible_actions\r\n",
    "            all_possible_actions = self.get_all_possible_actions(self.agent_current_pos)\r\n",
    "            # all_possible_actions -> contains a list of actions that a agent can take from the state its in\r\n",
    "            \r\n",
    "            states_the_actions_lead_to = self.get_states_for_actions(all_possible_actions,self.agent_current_pos)\r\n",
    "            \r\n",
    "            current_max = 0\r\n",
    "\r\n",
    "            # print('IN the current states, here are the states that can be reached, ', states_the_actions_lead_to)\r\n",
    "            \r\n",
    "            current_max_state = states_the_actions_lead_to[0]\r\n",
    "            current_max_states = []\r\n",
    "            \r\n",
    "            # all_possible_actions -> [1,3] like that a single list\r\n",
    "            # states_the_actions_lead_to -> [[1,0],[0,1]] -> states which the all_possible_actions lead to\r\n",
    "            for state_result, action in zip(states_the_actions_lead_to,all_possible_actions):\r\n",
    "                \r\n",
    "                # here we are fetching the max q value for the states that we can get into\r\n",
    "\r\n",
    "                max_q_value_of_state = max(self.qvalue_table[tuple([state_result[0],state_result[1]])])\r\n",
    "                \r\n",
    "                reward = self.check_and_get_reward(state_result)\r\n",
    "                \r\n",
    "                q_value = reward + self.gamma * max_q_value_of_state\r\n",
    "                \r\n",
    "                if q_value > self.qvalue_table[tuple([state_result[0],state_result[1]])][action]:\r\n",
    "                    print(\"q_value is getting updated\",q_value)\r\n",
    "                    self.qvalue_table[tuple([state_result[0],state_result[1]])][action] = q_value\r\n",
    "\r\n",
    "                if current_max < q_value:\r\n",
    "                    current_max_state = state_result\r\n",
    "                    current_max = q_value\r\n",
    "                    current_max_states = []\r\n",
    "\r\n",
    "                elif current_max == q_value:\r\n",
    "                    current_max_states.append(state_result)\r\n",
    "            \r\n",
    "            if len(current_max_states) != 0:                \r\n",
    "                self.agent_current_pos = random.choice(current_max_states)\r\n",
    "                # print('changing the value of agent current pos to, ',self.agent_current_pos)\r\n",
    "            else:\r\n",
    "                # print('changing the value of agent current pos to, ',current_max_state)\r\n",
    "                self.agent_current_pos = current_max_state\r\n",
    "\r\n",
    "\r\n",
    "            # # Here we are clipping the agents position to be in the environment (i.e if the agent goes out of env, we shall clip him to be inside the environment).\r\n",
    "            # self.agent_current_pos = list(np.clip(self.agent_current_pos, 0, 4))\r\n",
    " \r\n",
    "            # Here we are calculating the reward (i.e. the cumulative reward) and deleting that reward state from the collection of the reward states.\r\n",
    "            breaker = False\r\n",
    "            for reward_state_counter in range(len(self.rewards)):\r\n",
    "                for reward, state in self.rewards[reward_state_counter].items():\r\n",
    "                    # if the reward state matches the agents, sum the cum reward and delete that particular reward state space.\r\n",
    "\r\n",
    "                    if state == self.agent_current_pos:\r\n",
    "                        self.cumulative_reward += reward\r\n",
    "                        del self.rewards[reward_state_counter]\r\n",
    "                        breaker = True\r\n",
    "                        break\r\n",
    "\r\n",
    "                if breaker:\r\n",
    "                    break\r\n",
    "            \r\n",
    "            # We are now re-visualizing the environment\r\n",
    "            self.environment = np.zeros((5,5)) \r\n",
    "\r\n",
    "            for reward_state_counter in range(len(self.rewards)):\r\n",
    "                for reward, position in self.rewards[reward_state_counter].items():\r\n",
    "                    self.environment[tuple(position)] = reward\r\n",
    "                \r\n",
    "            self.environment[tuple(self.goal_pos)] = 0.5\r\n",
    "            self.environment[tuple(self.agent_current_pos)] = 1\r\n",
    "            \r\n",
    "            # if the agent has reached the final state then done\r\n",
    "            if (self.agent_current_pos == self.goal_pos) or (self.current_time_steps == self.max_timesteps):\r\n",
    "                done_or_not = True\r\n",
    "            \r\n",
    "            else:\r\n",
    "                done_or_not = False\r\n",
    "\r\n",
    "            return self.environment.flatten, self.cumulative_reward, done_or_not, self.current_time_steps\r\n",
    "    \r\n",
    "    def get_state_based_on_action(self, action, state):\r\n",
    "        if action == 0:\r\n",
    "            # print('Up')\r\n",
    "            state[0] -=1\r\n",
    "            return state\r\n",
    "\r\n",
    "        elif action == 1:\r\n",
    "            # print('Down')\r\n",
    "            state[0] +=1\r\n",
    "            return state\r\n",
    "\r\n",
    "        elif action == 2:\r\n",
    "            # print('Our Left or the Agents Right')\r\n",
    "            state[1] -=1\r\n",
    "            return state\r\n",
    "\r\n",
    "        elif action == 3:\r\n",
    "            # print('Our Right or the Agents Left')\r\n",
    "            state[1] +=1\r\n",
    "            return state\r\n",
    "\r\n",
    "    def check_and_get_reward(self, state_result):\r\n",
    "        # print('checking rewards for, ', state_result)\r\n",
    "        for i in range(len(self.rewards)):\r\n",
    "        \r\n",
    "\r\n",
    "            for key, value in self.rewards[i].items():\r\n",
    "                if value == state_result:\r\n",
    "                    self.rewards.pop(i)\r\n",
    "                    print('found reward for state_result', state_result, value)\r\n",
    "                    return key\r\n",
    "\r\n",
    "        return 0\r\n",
    "\r\n",
    "    # def get_all_q_values_for_states(self,all_actions,agent_state):\r\n",
    "    def get_states_for_actions(self, all_actions, agent_state):\r\n",
    "    \r\n",
    "        temp_states = agent_state.copy() \r\n",
    "        # vals_to_be_returned = []\r\n",
    "        states_considered = []\r\n",
    "        for action_to_be_taken in all_actions:\r\n",
    "            # print('states ,',temp_states)\r\n",
    "\r\n",
    "            action_taken = self.get_state_based_on_action(action_to_be_taken,agent_state)\r\n",
    "            states_considered.append(action_taken)\r\n",
    "            # print(action_taken)\r\n",
    "            \r\n",
    "            # print(qvalue_table[action_taken[0]][action_taken[1]])\r\n",
    "            # vals_to_be_returned.append(self.qvalue_table[action_taken[0]][action_taken[1]])\r\n",
    "            agent_state = temp_states.copy()\r\n",
    "\r\n",
    "        return states_considered\r\n",
    "        # return zip(states_considered,vals_to_be_returned)\r\n",
    "\r\n",
    "    def get_all_possible_actions(self,agent_current_pos):\r\n",
    "        \r\n",
    "        x_pos = agent_current_pos[0]\r\n",
    "        y_pos = agent_current_pos[1]\r\n",
    "\r\n",
    "        if (x_pos == 0) and (y_pos == 0):\r\n",
    "            return [1,3]\r\n",
    "        \r\n",
    "        elif (x_pos == 4) and (y_pos == 0):\r\n",
    "            return [0,3]\r\n",
    "        \r\n",
    "        elif (x_pos == 0) and (y_pos == 4):\r\n",
    "            return [1,2]\r\n",
    "        \r\n",
    "        elif (x_pos == 0) and (y_pos <= 3):\r\n",
    "            return [1,2,3]\r\n",
    "        \r\n",
    "        elif (x_pos <= 3) and (y_pos == 0 ):\r\n",
    "            return [0,1,3]\r\n",
    "        \r\n",
    "        elif (x_pos == 4) and (y_pos <= 3 ):\r\n",
    "            return [0,2,3]\r\n",
    "\r\n",
    "        elif (x_pos < 4) and (y_pos == 4 ):\r\n",
    "            return [0,2,1]\r\n",
    "\r\n",
    "        elif (x_pos >=1) and (x_pos<4) and (y_pos >= 1) and (y_pos <4):\r\n",
    "            return [0,1,2,3]\r\n",
    "\r\n",
    "        elif (x_pos==4) and (y_pos == 4):\r\n",
    "            return 'Yay youve won'\r\n",
    "        else:\r\n",
    "            return None\r\n",
    "\r\n",
    "    def render(self):\r\n",
    "        plt.imshow(self.environment)\r\n",
    "        plt.show()\r\n",
    "\r\n",
    "    def train(self):\r\n",
    "        # done = False\r\n",
    "        for i in range(self.no_of_episodes):\r\n",
    "            print(i)\r\n",
    "            done = False\r\n",
    "            while not done:\r\n",
    "                observation, reward, done, _ = self.step()\r\n",
    "                if done:\r\n",
    "                    print(reward)\r\n",
    "                    self.render()\r\n",
    "            self.reset()\r\n",
    "\r\n"
   ],
   "outputs": [],
   "metadata": {}
  },
  {
   "cell_type": "markdown",
   "source": [
    "# Sudo code for \r\n",
    "## Deterministic Q-Learning Value\r\n",
    "1. Get all possible actions when ia particular state:\r\n",
    "2. Calculate the Q-values for transistioning into the possible states (based on the actions available in step 1)\r\n",
    "    1. Search the Q-table for the max q-values for the different states\r\n",
    "        - If all max of all the transistion states is the same, select a random action.\r\n",
    "    2. If there is a reward for that state, take that into consideration.\r\n",
    "    3. Calculate the Q-values for all the actions for the state that the agent is in.\r\n",
    "    4. Update the Q-value table for the different actions by applying the learning rate\r\n",
    "    4. update the agent state based on the max q value in step 5.\r\n",
    "    5. Go to step main 2\r\n",
    "3. After we reach the goal state, reduce the gamma and the learning rate and restart the episode while keepng the epochs the same."
   ],
   "metadata": {}
  },
  {
   "cell_type": "code",
   "execution_count": 35,
   "source": [
    "# class environment_q_learning:\r\n",
    "#     def __init__(self,type_of_env:str,gamma_disc: float, epsilon:float,epsilon_decay:float,learning_rate:float,no_of_episodes:int,max_time_steps:int):\r\n",
    "environment_q_learning_obj = environment_q_learning(type_of_env = 'deterministic',gamma_disc=0.9,epsilon=0.2,epsilon_decay=0.001,learning_rate=0.1,no_of_episodes=10,max_time_steps=50)"
   ],
   "outputs": [],
   "metadata": {}
  },
  {
   "cell_type": "code",
   "execution_count": 36,
   "source": [
    "environment_q_learning_obj.train()"
   ],
   "outputs": [
    {
     "output_type": "stream",
     "name": "stdout",
     "text": [
      "0\n",
      "found reward for state_result [3, 0] [3, 0]\n",
      "found reward for state_result [3, 2] [3, 2]\n",
      "q_value is getting updated 3.0\n",
      "q_value is getting updated 2.7\n",
      "found reward for state_result [2, 3] [2, 3]\n",
      "q_value is getting updated 3.0\n",
      "found reward for state_result [0, 3] [0, 3]\n",
      "q_value is getting updated 2.7\n",
      "q_value is getting updated 2.7\n",
      "q_value is getting updated 2.7\n",
      "q_value is getting updated 2.7\n",
      "q_value is getting updated 2.7\n",
      "0\n"
     ]
    },
    {
     "output_type": "display_data",
     "data": {
      "image/png": "[encoded data removed]",
      "text/plain": [
       "<Figure size 432x288 with 1 Axes>"
      ]
     },
     "metadata": {
      "needs_background": "light"
     }
    },
    {
     "output_type": "stream",
     "name": "stdout",
     "text": [
      "1\n",
      "found reward for state_result [3, 0] [3, 0]\n",
      "found reward for state_result [3, 2] [3, 2]\n",
      "q_value is getting updated 5.7\n",
      "q_value is getting updated 5.13\n",
      "q_value is getting updated 5.13\n",
      "found reward for state_result [2, 3] [2, 3]\n",
      "q_value is getting updated 5.7\n",
      "q_value is getting updated 5.13\n",
      "q_value is getting updated 5.13\n",
      "q_value is getting updated 5.13\n",
      "found reward for state_result [0, 3] [0, 3]\n",
      "q_value is getting updated 5.13\n",
      "0\n"
     ]
    },
    {
     "output_type": "display_data",
     "data": {
      "image/png": "[encoded data removed]",
      "text/plain": [
       "<Figure size 432x288 with 1 Axes>"
      ]
     },
     "metadata": {
      "needs_background": "light"
     }
    },
    {
     "output_type": "stream",
     "name": "stdout",
     "text": [
      "2\n",
      "found reward for state_result [3, 0] [3, 0]\n",
      "found reward for state_result [3, 2] [3, 2]\n",
      "q_value is getting updated 8.129999999999999\n",
      "q_value is getting updated 7.316999999999999\n",
      "found reward for state_result [2, 3] [2, 3]\n",
      "q_value is getting updated 8.129999999999999\n",
      "q_value is getting updated 7.316999999999999\n",
      "q_value is getting updated 7.316999999999999\n",
      "q_value is getting updated 7.316999999999999\n",
      "found reward for state_result [0, 3] [0, 3]\n",
      "q_value is getting updated 7.316999999999999\n",
      "q_value is getting updated 7.316999999999999\n",
      "0\n"
     ]
    },
    {
     "output_type": "display_data",
     "data": {
      "image/png": "[encoded data removed]",
      "text/plain": [
       "<Figure size 432x288 with 1 Axes>"
      ]
     },
     "metadata": {
      "needs_background": "light"
     }
    },
    {
     "output_type": "stream",
     "name": "stdout",
     "text": [
      "3\n",
      "found reward for state_result [0, 3] [0, 3]\n",
      "found reward for state_result [3, 2] [3, 2]\n",
      "q_value is getting updated 10.317\n",
      "found reward for state_result [2, 3] [2, 3]\n",
      "q_value is getting updated 10.317\n",
      "q_value is getting updated 9.285300000000001\n",
      "q_value is getting updated 9.285300000000001\n",
      "q_value is getting updated 9.285300000000001\n",
      "q_value is getting updated 9.285300000000001\n",
      "q_value is getting updated 9.285300000000001\n",
      "0\n"
     ]
    },
    {
     "output_type": "display_data",
     "data": {
      "image/png": "[encoded data removed]",
      "text/plain": [
       "<Figure size 432x288 with 1 Axes>"
      ]
     },
     "metadata": {
      "needs_background": "light"
     }
    },
    {
     "output_type": "stream",
     "name": "stdout",
     "text": [
      "4\n",
      "found reward for state_result [3, 0] [3, 0]\n",
      "found reward for state_result [3, 2] [3, 2]\n",
      "q_value is getting updated 12.285300000000001\n",
      "q_value is getting updated 11.056770000000002\n",
      "found reward for state_result [2, 3] [2, 3]\n",
      "q_value is getting updated 12.285300000000001\n",
      "q_value is getting updated 11.056770000000002\n",
      "q_value is getting updated 11.056770000000002\n",
      "found reward for state_result [0, 3] [0, 3]\n",
      "q_value is getting updated 11.056770000000002\n",
      "q_value is getting updated 11.056770000000002\n",
      "q_value is getting updated 11.056770000000002\n",
      "0\n"
     ]
    },
    {
     "output_type": "display_data",
     "data": {
      "image/png": "[encoded data removed]",
      "text/plain": [
       "<Figure size 432x288 with 1 Axes>"
      ]
     },
     "metadata": {
      "needs_background": "light"
     }
    },
    {
     "output_type": "stream",
     "name": "stdout",
     "text": [
      "5\n",
      "found reward for state_result [0, 3] [0, 3]\n",
      "found reward for state_result [2, 3] [2, 3]\n",
      "q_value is getting updated 14.056770000000002\n",
      "q_value is getting updated 12.651093000000001\n",
      "found reward for state_result [3, 2] [3, 2]\n",
      "q_value is getting updated 14.056770000000002\n",
      "q_value is getting updated 12.651093000000001\n",
      "q_value is getting updated 12.651093000000001\n",
      "q_value is getting updated 12.651093000000001\n",
      "0\n"
     ]
    },
    {
     "output_type": "display_data",
     "data": {
      "image/png": "[encoded data removed]",
      "text/plain": [
       "<Figure size 432x288 with 1 Axes>"
      ]
     },
     "metadata": {
      "needs_background": "light"
     }
    },
    {
     "output_type": "stream",
     "name": "stdout",
     "text": [
      "6\n",
      "found reward for state_result [3, 0] [3, 0]\n",
      "found reward for state_result [3, 2] [3, 2]\n",
      "q_value is getting updated 15.651093000000001\n",
      "found reward for state_result [2, 3] [2, 3]\n",
      "q_value is getting updated 15.651093000000001\n",
      "q_value is getting updated 14.085983700000002\n",
      "q_value is getting updated 14.085983700000002\n",
      "found reward for state_result [0, 3] [0, 3]\n",
      "q_value is getting updated 14.085983700000002\n",
      "q_value is getting updated 14.085983700000002\n",
      "q_value is getting updated 14.085983700000002\n",
      "q_value is getting updated 14.085983700000002\n",
      "0\n"
     ]
    },
    {
     "output_type": "display_data",
     "data": {
      "image/png": "[encoded data removed]",
      "text/plain": [
       "<Figure size 432x288 with 1 Axes>"
      ]
     },
     "metadata": {
      "needs_background": "light"
     }
    },
    {
     "output_type": "stream",
     "name": "stdout",
     "text": [
      "7\n",
      "found reward for state_result [0, 3] [0, 3]\n",
      "found reward for state_result [2, 3] [2, 3]\n",
      "q_value is getting updated 17.0859837\n",
      "q_value is getting updated 15.377385330000001\n",
      "found reward for state_result [3, 2] [3, 2]\n",
      "q_value is getting updated 17.0859837\n",
      "q_value is getting updated 15.377385330000001\n",
      "q_value is getting updated 15.377385330000001\n",
      "0\n"
     ]
    },
    {
     "output_type": "display_data",
     "data": {
      "image/png": "[encoded data removed]",
      "text/plain": [
       "<Figure size 432x288 with 1 Axes>"
      ]
     },
     "metadata": {
      "needs_background": "light"
     }
    },
    {
     "output_type": "stream",
     "name": "stdout",
     "text": [
      "8\n",
      "found reward for state_result [3, 0] [3, 0]\n",
      "found reward for state_result [3, 2] [3, 2]\n",
      "q_value is getting updated 18.377385330000003\n",
      "found reward for state_result [2, 3] [2, 3]\n",
      "q_value is getting updated 18.377385330000003\n",
      "q_value is getting updated 16.539646797000003\n",
      "found reward for state_result [0, 3] [0, 3]\n",
      "q_value is getting updated 16.539646797000003\n",
      "0\n"
     ]
    },
    {
     "output_type": "display_data",
     "data": {
      "image/png": "[encoded data removed]",
      "text/plain": [
       "<Figure size 432x288 with 1 Axes>"
      ]
     },
     "metadata": {
      "needs_background": "light"
     }
    },
    {
     "output_type": "stream",
     "name": "stdout",
     "text": [
      "9\n",
      "found reward for state_result [0, 3] [0, 3]\n",
      "found reward for state_result [3, 0] [3, 0]\n",
      "found reward for state_result [3, 2] [3, 2]\n",
      "q_value is getting updated 19.539646797000003\n",
      "found reward for state_result [2, 3] [2, 3]\n",
      "q_value is getting updated 19.539646797000003\n",
      "q_value is getting updated 17.585682117300003\n",
      "q_value is getting updated 17.585682117300003\n",
      "q_value is getting updated 17.585682117300003\n",
      "q_value is getting updated 17.585682117300003\n",
      "q_value is getting updated 17.585682117300003\n",
      "q_value is getting updated 17.585682117300003\n",
      "0\n"
     ]
    },
    {
     "output_type": "display_data",
     "data": {
      "image/png": "[encoded data removed]",
      "text/plain": [
       "<Figure size 432x288 with 1 Axes>"
      ]
     },
     "metadata": {
      "needs_background": "light"
     }
    }
   ],
   "metadata": {}
  },
  {
   "cell_type": "code",
   "execution_count": 37,
   "source": [
    "environment_q_learning_obj.qvalue_table"
   ],
   "outputs": [
    {
     "output_type": "execute_result",
     "data": {
      "text/plain": [
       "{(0, 0): array([0., 0., 0., 0.]),\n",
       " (0, 1): array([0., 0., 0., 0.]),\n",
       " (0, 2): array([0., 0., 0., 0.]),\n",
       " (0, 3): array([0., 0., 0., 0.]),\n",
       " (0, 4): array([0., 0., 0., 0.]),\n",
       " (1, 0): array([0., 0., 0., 0.]),\n",
       " (1, 1): array([0., 0., 0., 0.]),\n",
       " (1, 2): array([0., 0., 0., 0.]),\n",
       " (1, 3): array([0., 0., 0., 0.]),\n",
       " (1, 4): array([0., 0., 0., 0.]),\n",
       " (2, 0): array([0., 0., 0., 0.]),\n",
       " (2, 1): array([0., 0., 0., 0.]),\n",
       " (2, 2): array([0., 0., 0., 0.]),\n",
       " (2, 3): array([17.58568212, 17.58568212, 17.58568212, 19.5396468 ]),\n",
       " (2, 4): array([0., 0., 0., 0.]),\n",
       " (3, 0): array([0., 0., 0., 0.]),\n",
       " (3, 1): array([0., 0., 0., 0.]),\n",
       " (3, 2): array([17.58568212, 19.5396468 , 17.58568212, 17.58568212]),\n",
       " (3, 3): array([0., 0., 0., 0.]),\n",
       " (3, 4): array([0., 0., 0., 0.]),\n",
       " (4, 0): array([0., 0., 0., 0.]),\n",
       " (4, 1): array([0., 0., 0., 0.]),\n",
       " (4, 2): array([0., 0., 0., 0.]),\n",
       " (4, 3): array([0., 0., 0., 0.]),\n",
       " (4, 4): array([0., 0., 0., 0.])}"
      ]
     },
     "metadata": {},
     "execution_count": 37
    }
   ],
   "metadata": {}
  },
  {
   "cell_type": "code",
   "execution_count": null,
   "source": [],
   "outputs": [],
   "metadata": {}
  },
  {
   "cell_type": "code",
   "execution_count": null,
   "source": [],
   "outputs": [],
   "metadata": {}
  }
 ],
 "metadata": {
  "orig_nbformat": 4,
  "language_info": {
   "name": "python",
   "version": "3.8.8",
   "mimetype": "text/x-python",
   "codemirror_mode": {
    "name": "ipython",
    "version": 3
   },
   "pygments_lexer": "ipython3",
   "nbconvert_exporter": "python",
   "file_extension": ".py"
  },
  "kernelspec": {
   "name": "python3",
   "display_name": "Python 3.8.8 64-bit ('base': conda)"
  },
  "interpreter": {
   "hash": "4e5a298e8f6c08cb1c67119fb54864d83c3a44710d4d324d683ac8465221c20b"
  }
 },
 "nbformat": 4,
 "nbformat_minor": 2
}